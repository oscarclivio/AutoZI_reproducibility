{
 "cells": [
  {
   "cell_type": "markdown",
   "metadata": {},
   "source": [
    "# Negative control datasets"
   ]
  },
  {
   "cell_type": "markdown",
   "metadata": {},
   "source": [
    "## Imports"
   ]
  },
  {
   "cell_type": "code",
   "execution_count": 1,
   "metadata": {},
   "outputs": [],
   "source": [
    "import glob\n",
    "import pandas as pd\n",
    "import numpy as np\n",
    "import os\n",
    "from IPython.display import HTML\n",
    "import scipy\n",
    "import torch\n",
    "import pickle\n",
    "import re\n",
    "from sklearn.metrics import roc_curve, auc, precision_recall_curve, average_precision_score\n",
    "import matplotlib.pyplot as plt\n",
    "from inspect import signature"
   ]
  },
  {
   "cell_type": "code",
   "execution_count": 2,
   "metadata": {},
   "outputs": [
    {
     "name": "stderr",
     "output_type": "stream",
     "text": [
      "[2019-10-11 21:11:05,539] INFO - scvi._settings | Added StreamHandler with custom formatter to 'scvi' logger.\n",
      "/home/oscar/miniconda3/lib/python3.7/site-packages/scikit_learn-0.19.2-py3.7-linux-x86_64.egg/sklearn/ensemble/weight_boosting.py:29: DeprecationWarning: numpy.core.umath_tests is an internal NumPy module and should not be imported. It will be removed in a future NumPy release.\n",
      "  from numpy.core.umath_tests import inner1d\n"
     ]
    }
   ],
   "source": [
    "from scvi.models import AutoZIVAE\n",
    "from scvi.inference import UnsupervisedTrainer\n",
    "from datasets.negativecontrol import Svensson1NegativeControlDataset, Svensson2NegativeControlDataset,\\\n",
    "    KleinNegativeControlDataset, ZhengNegativeControlDataset\n",
    "import torch\n",
    "import pickle\n",
    "import argparse\n",
    "import re\n",
    "import numpy as np\n",
    "import time\n",
    "from scvi.models.log_likelihood import compute_marginal_log_likelihood_scvi, compute_marginal_log_likelihood_autozi\n",
    "import os\n",
    "from autozi_simulate_tools import retrieve_rates_dropouts\n",
    "from classification_metrics import *\n",
    "from functools import partial"
   ]
  },
  {
   "cell_type": "code",
   "execution_count": 3,
   "metadata": {},
   "outputs": [],
   "source": [
    "plt.switch_backend(\"TkAgg\")\n",
    "%matplotlib inline"
   ]
  },
  {
   "cell_type": "markdown",
   "metadata": {},
   "source": [
    "## Train AutoZI on datasets"
   ]
  },
  {
   "cell_type": "markdown",
   "metadata": {},
   "source": [
    "For each dataset under scrutiny, we retrieve the posterior parameters $\\alpha^g, \\beta^g$ of $q(\\delta_g)$ for each gene $g$."
   ]
  },
  {
   "cell_type": "code",
   "execution_count": 4,
   "metadata": {},
   "outputs": [
    {
     "name": "stderr",
     "output_type": "stream",
     "text": [
      "[2019-10-11 21:11:07,494] INFO - scvi.dataset.dataset | Remapping batch_indices to [0,N]\n",
      "[2019-10-11 21:11:07,495] INFO - scvi.dataset.dataset | Remapping labels to [0,N]\n"
     ]
    },
    {
     "name": "stdout",
     "output_type": "stream",
     "text": [
      "training: 100%|██████████| 600/600 [01:25<00:00,  7.67it/s]\n"
     ]
    },
    {
     "name": "stderr",
     "output_type": "stream",
     "text": [
      "[2019-10-11 21:12:36,279] INFO - scvi.dataset.dataset | Remapping batch_indices to [0,N]\n",
      "[2019-10-11 21:12:36,280] INFO - scvi.dataset.dataset | Remapping labels to [0,N]\n"
     ]
    },
    {
     "name": "stdout",
     "output_type": "stream",
     "text": [
      "training: 100%|██████████| 600/600 [01:25<00:00,  6.71it/s]\n"
     ]
    },
    {
     "name": "stderr",
     "output_type": "stream",
     "text": [
      "[2019-10-11 21:14:02,057] INFO - scvi.dataset.dataset | Remapping batch_indices to [0,N]\n",
      "[2019-10-11 21:14:02,058] INFO - scvi.dataset.dataset | Remapping labels to [0,N]\n"
     ]
    },
    {
     "name": "stdout",
     "output_type": "stream",
     "text": [
      "training: 100%|██████████| 600/600 [00:44<00:00, 12.03it/s]"
     ]
    },
    {
     "name": "stderr",
     "output_type": "stream",
     "text": [
      "[2019-10-11 21:14:46,712] INFO - scvi.dataset.dataset | Remapping batch_indices to [0,N]\n",
      "[2019-10-11 21:14:46,713] INFO - scvi.dataset.dataset | Remapping labels to [0,N]\n"
     ]
    },
    {
     "name": "stdout",
     "output_type": "stream",
     "text": [
      "\n",
      "training: 100%|██████████| 600/600 [00:50<00:00, 13.29it/s]\n"
     ]
    }
   ],
   "source": [
    "results_autozi_outputs = []\n",
    "datasets_mapper = {\n",
    "    'sven1-100rna': partial(Svensson1NegativeControlDataset, n_rna=100, threshold=None),\n",
    "    'sven2-100rna': partial(Svensson2NegativeControlDataset, n_rna=100, threshold=None),\n",
    "    'svenklein-100rna': partial(KleinNegativeControlDataset, n_rna=100, threshold=None),\n",
    "    'svenzheng-0rna': partial(ZhengNegativeControlDataset, n_rna=0, threshold=None),\n",
    "}\n",
    "\n",
    "for dataset_name in datasets_mapper:\n",
    "    data = datasets_mapper[dataset_name]()\n",
    "\n",
    "    np.random.seed(int(time.time()))\n",
    "    torch.manual_seed(int(time.time()))\n",
    "    model = AutoZIVAE(n_input=data.nb_genes, alpha_prior=0.5, beta_prior=0.5,minimal_dropout=0.01)\n",
    "    trainer = UnsupervisedTrainer(model, data)\n",
    "    if 'sven1' in dataset_name or 'sven2' in dataset_name:\n",
    "        trainer.train(n_epochs=600, lr=1e-3)\n",
    "    else:\n",
    "        trainer.train(n_epochs=600, lr=1e-2)\n",
    "    outputs = trainer.model.get_alphas_betas(as_numpy=True)\n",
    "    outputs['is_ercc'] = data.is_ercc\n",
    "    outputs['dataset_name'] = dataset_name\n",
    "    outputs['means_emp'] = data.X.mean(axis=0)\n",
    "    results_autozi_outputs.append(outputs)"
   ]
  },
  {
   "cell_type": "markdown",
   "metadata": {},
   "source": [
    "## Compute metrics from AutoZI's outputs"
   ]
  },
  {
   "cell_type": "markdown",
   "metadata": {},
   "source": [
    "For each dataset under scrutiny, from these $\\alpha^g, \\beta^g$, we estimate the ZI probabilities $q(\\delta_g < 0.5)$ and classification metrics on the default decision rule $q(\\delta_g < 0.5) > 0.5$ using tools from `classification_metrics.py`."
   ]
  },
  {
   "cell_type": "code",
   "execution_count": 5,
   "metadata": {},
   "outputs": [
    {
     "name": "stderr",
     "output_type": "stream",
     "text": [
      "/media/storage/Documents/2. Professionnel/UC Berkeley Internship 2019/scVI-C/autozi_reproducibility/classification_metrics.py:45: RuntimeWarning: Mean of empty slice.\n",
      "  results['accuracy'] = (labels_predicted == labels_gt).mean()\n",
      "/home/oscar/miniconda3/lib/python3.7/site-packages/numpy/core/_methods.py:85: RuntimeWarning: invalid value encountered in double_scalars\n",
      "  ret = ret.dtype.type(ret / rcount)\n"
     ]
    }
   ],
   "source": [
    "results_autozi_data_list = []\n",
    "\n",
    "for outputs in results_autozi_outputs:\n",
    "    \n",
    "    is_ercc = outputs['is_ercc']\n",
    "    means_emp = outputs[\"means_emp\"]\n",
    "    \n",
    "    # Select spike-ins and control RNAs only with average expression above 1\n",
    "    mask_means_emp = (means_emp > 1) \n",
    "\n",
    "    # The ground-truth is defined as NB for all genes for computational purposes.\n",
    "    # However, the purpose of this study is to assess the relevance of this choice\n",
    "    is_zinb_gt = np.zeros(is_ercc.shape).astype(bool)\n",
    "\n",
    "    # Obtain classification results for each of ERCC spike-ins and control RNAs\n",
    "    masks = {'ercc': (is_ercc & mask_means_emp), 'rna': ((~is_ercc) & (mask_means_emp))}\n",
    "\n",
    "    metric_list_bernoulli = [\n",
    "        ConfusionMatrixMetric(is_zinb_gt, masks=masks),\n",
    "    ]\n",
    "\n",
    "    model_score_evals = [\n",
    "        AutoZIBernoulliThresholdEval('bernoullithreshold50', outputs, metric_list_bernoulli, threshold=0.50),\n",
    "    ]\n",
    "\n",
    "    results_autozi_data = {}\n",
    "    for model_score_eval in model_score_evals:\n",
    "        # Compute metrics for AutoZI on the dataset (here confusion matrix metrics)\n",
    "        # Positives are ZI genes\n",
    "        results_autozi_data.update(model_score_eval.compute_all_metrics())\n",
    "        # Also directly add the scores used to compute the metrics\n",
    "        results_autozi_data[model_score_eval.name] = model_score_eval.scores\n",
    "        # Restrict the scores to ERCC spike-ins\n",
    "        results_autozi_data[model_score_eval.name + '_ercc'] = model_score_eval.scores[is_ercc]\n",
    "        # Restrict them to control RNAs\n",
    "        results_autozi_data[model_score_eval.name + '_rna'] = model_score_eval.scores[~is_ercc]\n",
    "        \n",
    "        \n",
    "        for key in ['means_emp','dataset_name']:\n",
    "            results_autozi_data[key] = outputs.get(key,None)\n",
    "            if key == 'means_emp':\n",
    "                results_autozi_data[key + '_ercc'] = outputs.get(key, None)[is_ercc]\n",
    "                results_autozi_data[key + '_rna'] = outputs.get(key, None)[~is_ercc]\n",
    "\n",
    "    results_autozi_data_list.append(results_autozi_data)\n",
    "\n",
    "results_autozi = pd.DataFrame(results_autozi_data_list)"
   ]
  },
  {
   "cell_type": "code",
   "execution_count": 6,
   "metadata": {},
   "outputs": [],
   "source": [
    "results_autozi = results_autozi.sort_values(by=['dataset_name']).set_index(['dataset_name'])"
   ]
  },
  {
   "cell_type": "markdown",
   "metadata": {},
   "source": [
    "## Percentages of ZINB genes"
   ]
  },
  {
   "cell_type": "markdown",
   "metadata": {},
   "source": [
    "ERCC"
   ]
  },
  {
   "cell_type": "code",
   "execution_count": 7,
   "metadata": {},
   "outputs": [
    {
     "name": "stdout",
     "output_type": "stream",
     "text": [
      "% of ZINB genes for ERCC spike-ins\n",
      "\n",
      "dataset_name\n",
      "sven1-100rna        0.041667\n",
      "sven2-100rna        0.083333\n",
      "svenklein-100rna    0.000000\n",
      "svenzheng-0rna      0.022727\n",
      "dtype: float64\n",
      "\n",
      "In general :  0.03333333333333333\n"
     ]
    }
   ],
   "source": [
    "print(\"% of ZINB genes for ERCC spike-ins\\n\")\n",
    "print(results_autozi.bernoullithreshold50_confusionmatrix_ercc_fp / results_autozi.bernoullithreshold50_confusionmatrix_ercc_total)\n",
    "print('\\nIn general : ', \\\n",
    "      results_autozi.bernoullithreshold50_confusionmatrix_ercc_fp.sum()\\\n",
    "      / results_autozi.bernoullithreshold50_confusionmatrix_ercc_total.sum())"
   ]
  },
  {
   "cell_type": "markdown",
   "metadata": {},
   "source": [
    "RNA"
   ]
  },
  {
   "cell_type": "code",
   "execution_count": 8,
   "metadata": {},
   "outputs": [
    {
     "name": "stdout",
     "output_type": "stream",
     "text": [
      "% of ZINB genes for control RNAs\n",
      "\n",
      "dataset_name\n",
      "sven1-100rna        0.06\n",
      "sven2-100rna        0.09\n",
      "svenklein-100rna    0.00\n",
      "svenzheng-0rna       NaN\n",
      "dtype: float64\n",
      "\n",
      "In general :  0.05\n"
     ]
    }
   ],
   "source": [
    "print(\"% of ZINB genes for control RNAs\\n\")\n",
    "print(results_autozi.bernoullithreshold50_confusionmatrix_rna_fp / results_autozi.bernoullithreshold50_confusionmatrix_rna_total)\n",
    "print('\\nIn general : ', \\\n",
    "      results_autozi.bernoullithreshold50_confusionmatrix_rna_fp.sum()\\\n",
    "      / results_autozi.bernoullithreshold50_confusionmatrix_rna_total.sum())"
   ]
  }
 ],
 "metadata": {
  "kernelspec": {
   "display_name": "Python 3",
   "language": "python",
   "name": "python3"
  },
  "language_info": {
   "codemirror_mode": {
    "name": "ipython",
    "version": 3
   },
   "file_extension": ".py",
   "mimetype": "text/x-python",
   "name": "python",
   "nbconvert_exporter": "python",
   "pygments_lexer": "ipython3",
   "version": "3.7.3"
  }
 },
 "nbformat": 4,
 "nbformat_minor": 2
}
