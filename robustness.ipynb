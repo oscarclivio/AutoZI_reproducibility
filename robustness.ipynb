{
 "cells": [
  {
   "cell_type": "markdown",
   "metadata": {},
   "source": [
    "# Poisson log-normal datasets - test with NB means and average expressions"
   ]
  },
  {
   "cell_type": "markdown",
   "metadata": {},
   "source": [
    "## Imports"
   ]
  },
  {
   "cell_type": "code",
   "execution_count": 2,
   "metadata": {},
   "outputs": [],
   "source": [
    "import glob\n",
    "import pandas as pd\n",
    "import numpy as np\n",
    "import os\n",
    "from IPython.display import HTML\n",
    "import scipy\n",
    "import torch\n",
    "import pickle\n",
    "import re\n",
    "from sklearn.metrics import roc_curve, auc, precision_recall_curve, average_precision_score\n",
    "import matplotlib.pyplot as plt\n",
    "from inspect import signature"
   ]
  },
  {
   "cell_type": "code",
   "execution_count": 3,
   "metadata": {},
   "outputs": [
    {
     "name": "stderr",
     "output_type": "stream",
     "text": [
      "[2019-10-11 19:29:52,720] INFO - scvi._settings | Added StreamHandler with custom formatter to 'scvi' logger.\n",
      "/home/oscar/miniconda3/lib/python3.7/site-packages/scikit_learn-0.19.2-py3.7-linux-x86_64.egg/sklearn/ensemble/weight_boosting.py:29: DeprecationWarning: numpy.core.umath_tests is an internal NumPy module and should not be imported. It will be removed in a future NumPy release.\n",
      "  from numpy.core.umath_tests import inner1d\n"
     ]
    }
   ],
   "source": [
    "from scvi.models import AutoZIVAE\n",
    "from scvi.inference import UnsupervisedTrainer\n",
    "from datasets.poissonlognormal import ZIFAPoissonLogNormalDatasetMixed\n",
    "import torch\n",
    "import pickle\n",
    "import argparse\n",
    "import re\n",
    "import numpy as np\n",
    "import time\n",
    "from scvi.models.log_likelihood import compute_marginal_log_likelihood_scvi, compute_marginal_log_likelihood_autozi\n",
    "import os\n",
    "from autozi_simulate_tools import retrieve_rates_dropouts\n",
    "from classification_metrics import *"
   ]
  },
  {
   "cell_type": "code",
   "execution_count": 4,
   "metadata": {},
   "outputs": [],
   "source": [
    "plt.switch_backend(\"TkAgg\")\n",
    "%matplotlib inline"
   ]
  },
  {
   "cell_type": "markdown",
   "metadata": {},
   "source": [
    "## Train AutoZI on datasets"
   ]
  },
  {
   "cell_type": "markdown",
   "metadata": {},
   "source": [
    "For each dataset under scrutiny, we retrieve the posterior parameters $\\alpha^g, \\beta^g$ of $q(\\delta_g)$  as well as average expressions and average estimated NB means for each gene $g$"
   ]
  },
  {
   "cell_type": "code",
   "execution_count": 5,
   "metadata": {},
   "outputs": [
    {
     "name": "stderr",
     "output_type": "stream",
     "text": [
      "[2019-10-11 19:30:00,295] INFO - scvi.dataset.dataset | Remapping batch_indices to [0,N]\n",
      "[2019-10-11 19:30:00,296] INFO - scvi.dataset.dataset | Remapping labels to [0,N]\n"
     ]
    },
    {
     "name": "stdout",
     "output_type": "stream",
     "text": [
      "training: 100%|██████████| 200/200 [02:48<00:00,  1.21it/s]\n"
     ]
    },
    {
     "name": "stderr",
     "output_type": "stream",
     "text": [
      "[2019-10-11 19:32:52,268] INFO - scvi.dataset.dataset | Remapping batch_indices to [0,N]\n",
      "[2019-10-11 19:32:52,270] INFO - scvi.dataset.dataset | Remapping labels to [0,N]\n"
     ]
    },
    {
     "name": "stdout",
     "output_type": "stream",
     "text": [
      "training: 100%|██████████| 200/200 [02:54<00:00,  1.02it/s]\n"
     ]
    },
    {
     "name": "stderr",
     "output_type": "stream",
     "text": [
      "[2019-10-11 19:35:49,287] INFO - scvi.dataset.dataset | Remapping batch_indices to [0,N]\n",
      "[2019-10-11 19:35:49,292] INFO - scvi.dataset.dataset | Remapping labels to [0,N]\n"
     ]
    },
    {
     "name": "stdout",
     "output_type": "stream",
     "text": [
      "training: 100%|██████████| 200/200 [03:15<00:00,  1.07it/s]\n"
     ]
    },
    {
     "name": "stderr",
     "output_type": "stream",
     "text": [
      "[2019-10-11 19:39:06,117] INFO - scvi.dataset.dataset | Remapping batch_indices to [0,N]\n",
      "[2019-10-11 19:39:06,118] INFO - scvi.dataset.dataset | Remapping labels to [0,N]\n"
     ]
    },
    {
     "name": "stdout",
     "output_type": "stream",
     "text": [
      "training: 100%|██████████| 200/200 [02:57<00:00,  1.24it/s]\n"
     ]
    },
    {
     "name": "stderr",
     "output_type": "stream",
     "text": [
      "[2019-10-11 19:42:05,062] INFO - scvi.dataset.dataset | Remapping batch_indices to [0,N]\n",
      "[2019-10-11 19:42:05,064] INFO - scvi.dataset.dataset | Remapping labels to [0,N]\n"
     ]
    },
    {
     "name": "stdout",
     "output_type": "stream",
     "text": [
      "training: 100%|██████████| 200/200 [03:41<00:00,  1.36s/it]\n"
     ]
    },
    {
     "name": "stderr",
     "output_type": "stream",
     "text": [
      "[2019-10-11 19:45:47,903] INFO - scvi.dataset.dataset | Remapping batch_indices to [0,N]\n",
      "[2019-10-11 19:45:47,905] INFO - scvi.dataset.dataset | Remapping labels to [0,N]\n"
     ]
    },
    {
     "name": "stdout",
     "output_type": "stream",
     "text": [
      "training: 100%|██████████| 200/200 [04:32<00:00,  1.23s/it]\n"
     ]
    }
   ],
   "source": [
    "results_autozi_outputs = []\n",
    "for loc_reduce in [9,8,7,6,5,4]:\n",
    "    for zi_share in [0.5]:\n",
    "        data = ZIFAPoissonLogNormalDatasetMixed(n_cells=12000, loc_reduce=loc_reduce, dropout_coef=0.1, \\\n",
    "                                                dropout_lambda=0., zero_inflation_share=zi_share, separate_reduce=True)\n",
    "\n",
    "        np.random.seed(int(time.time()))\n",
    "        torch.manual_seed(int(time.time()))\n",
    "        model = AutoZIVAE(n_input=data.nb_genes, alpha_prior=0.5, beta_prior=0.5,minimal_dropout=0.01)\n",
    "        trainer = UnsupervisedTrainer(model, data)\n",
    "        trainer.train(n_epochs=200, lr=1e-2)\n",
    "        outputs = trainer.model.get_alphas_betas(as_numpy=True)\n",
    "        \n",
    "        outputs['dataset_name'] = 'plnreduced{zi_share}zi{loc_reduce}fold'.format(zi_share=zi_share, loc_reduce=loc_reduce)\n",
    "        full = trainer.create_posterior(trainer.model, data, indices=np.arange(len(data)))\n",
    "        px_dropout_probs, px_rates, px_rates_all = retrieve_rates_dropouts(model,full)\n",
    "        outputs['dropout_probs_full'] = px_dropout_probs\n",
    "        outputs['px_rates_gene'] = px_rates\n",
    "        outputs['px_rates_cell-gene'] = px_rates_all\n",
    "        outputs['means_emp'] = data.X.mean(axis=0)\n",
    "        outputs['is_nb_gt'] = data.no_zi_genes\n",
    "        results_autozi_outputs.append(outputs)"
   ]
  },
  {
   "cell_type": "markdown",
   "metadata": {},
   "source": [
    "## Compute metrics from AutoZI's outputs"
   ]
  },
  {
   "cell_type": "markdown",
   "metadata": {},
   "source": [
    "For each dataset under scrutiny, from these $\\alpha^g, \\beta^g$, we estimate the ZI probabilities $q(\\delta_g < 0.5)$ using tools from `classification_metrics.py`."
   ]
  },
  {
   "cell_type": "code",
   "execution_count": 10,
   "metadata": {},
   "outputs": [],
   "source": [
    "results_autozi_data_list = []\n",
    "\n",
    "for outputs in results_autozi_outputs:\n",
    "    is_zinb_gt = ~outputs['is_nb_gt']\n",
    "    dataset_name = outputs['dataset_name']\n",
    "\n",
    "    model_score_evals = [\n",
    "        AutoZIBernoulliThresholdEval('bernoullithreshold50', outputs, [], threshold=0.50),\n",
    "    ]\n",
    "\n",
    "    results_autozi_data = {}\n",
    "    for model_score_eval in model_score_evals:\n",
    "        # Directly add ZI probabilities\n",
    "        results_autozi_data[model_score_eval.name] = model_score_eval.scores\n",
    "    results_autozi_data['is_zinb_gt'] = is_zinb_gt\n",
    "\n",
    "    for key in ['means_emp','px_rates_gene','dataset_name']:\n",
    "        results_autozi_data[key] = outputs.get(key,None)\n",
    "        \n",
    "    results_autozi_data_list.append(results_autozi_data)\n",
    "\n",
    "results_autozi = pd.DataFrame(results_autozi_data_list)"
   ]
  },
  {
   "cell_type": "code",
   "execution_count": 11,
   "metadata": {},
   "outputs": [],
   "source": [
    "results_autozi = results_autozi.sort_values(by=['dataset_name']).set_index(['dataset_name'])"
   ]
  },
  {
   "cell_type": "markdown",
   "metadata": {},
   "source": [
    "## Retrieve all scores, NB means and average expressions"
   ]
  },
  {
   "cell_type": "code",
   "execution_count": 12,
   "metadata": {},
   "outputs": [],
   "source": [
    "scores_autozi_all = np.concatenate(list(results_autozi.bernoullithreshold50.values.reshape(-1))).reshape(-1)\n",
    "nbmeans_autozi_all = np.concatenate(list(results_autozi.px_rates_gene.values.reshape(-1))).reshape(-1)\n",
    "avgexps_autozi_all = np.concatenate(list(results_autozi.means_emp.values.reshape(-1))).reshape(-1)\n",
    "is_zinb_gt_all = np.concatenate(list(results_autozi.is_zinb_gt.values.reshape(-1))).reshape(-1)\n",
    "is_zinb_pred_all = scores_autozi_all > 0.5"
   ]
  },
  {
   "cell_type": "markdown",
   "metadata": {},
   "source": [
    "## Show right and wrong predictions of AutoZI wrt NB means and average expressions"
   ]
  },
  {
   "cell_type": "code",
   "execution_count": 13,
   "metadata": {},
   "outputs": [
    {
     "name": "stdout",
     "output_type": "stream",
     "text": [
      "NB\n",
      "Percentage of right predictions with average expressions > 1\n",
      "0.9115646258503401\n",
      "Percentage of right predictions with average expressions < 1\n",
      "0.0\n",
      "Fraction of average expressions < 1 for wrong predictions\n",
      "0.9216867469879518\n",
      "Percentage of right predictions in general\n",
      "0.44666666666666666\n"
     ]
    },
    {
     "data": {
      "image/png": "[encoded data removed]",
      "text/plain": [
       "<Figure size 432x288 with 1 Axes>"
      ]
     },
     "metadata": {
      "needs_background": "light"
     },
     "output_type": "display_data"
    },
    {
     "name": "stdout",
     "output_type": "stream",
     "text": [
      "ZINB\n",
      "Percentage of right predictions with average expressions > 1\n",
      "0.99375\n",
      "Percentage of right predictions with average expressions < 1\n",
      "1.0\n",
      "Fraction of average expressions < 1 for wrong predictions\n",
      "0.0\n",
      "Percentage of right predictions in general\n",
      "0.9966666666666667\n"
     ]
    },
    {
     "data": {
      "image/png": "[encoded data removed]",
      "text/plain": [
       "<Figure size 432x288 with 1 Axes>"
      ]
     },
     "metadata": {
      "needs_background": "light"
     },
     "output_type": "display_data"
    }
   ],
   "source": [
    "logs = True\n",
    "\n",
    "reconst_loss = {False: 'NB', True: 'ZINB'}\n",
    "\n",
    "\n",
    "for is_zinb_gt in [False,True]:\n",
    "    \n",
    "    print(reconst_loss[is_zinb_gt])\n",
    "    print('Percentage of right predictions with average expressions > 1')\n",
    "    print((is_zinb_pred_all == is_zinb_gt_all)[(avgexps_autozi_all > 1.) & (is_zinb_gt_all == is_zinb_gt)].mean())\n",
    "    print('Percentage of right predictions with average expressions < 1')\n",
    "    print((is_zinb_pred_all == is_zinb_gt_all)[(avgexps_autozi_all < 1) & (is_zinb_gt_all == is_zinb_gt)].mean())\n",
    "    print('Fraction of average expressions < 1 for wrong predictions')\n",
    "    print((avgexps_autozi_all < 1.)[(is_zinb_pred_all != is_zinb_gt_all) & (is_zinb_gt_all == is_zinb_gt)].mean())\n",
    "    print('Percentage of right predictions in general')\n",
    "    print((is_zinb_pred_all == is_zinb_gt_all)[(is_zinb_gt_all == is_zinb_gt)].mean())\n",
    "    \n",
    "    \n",
    "    fig = plt.figure()\n",
    "    axes = plt.gca()\n",
    "    \n",
    "    if logs:\n",
    "        nbmeans_autozi_all_copy = np.log10(nbmeans_autozi_all)\n",
    "        avgexps_autozi_all_copy = np.log10(avgexps_autozi_all)\n",
    "    else:\n",
    "        nbmeans_autozi_all_copy = nbmeans_autozi_all\n",
    "        avgexps_autozi_all_copy = avgexps_autozi_all\n",
    "        \n",
    "    plt.plot([-1, 4], [-1, 4], color='navy', lw=2, linestyle='--', alpha=0.4)\n",
    "    for is_zinb_pred in [is_zinb_gt,not(is_zinb_gt)]:\n",
    "        color = 'red' if is_zinb_pred else 'green'\n",
    "        label = '{} genes predicted {}'.format(reconst_loss[is_zinb_gt],reconst_loss[is_zinb_pred])\n",
    "        plt.scatter(x=avgexps_autozi_all_copy[(is_zinb_gt_all == is_zinb_gt) & (is_zinb_pred_all == is_zinb_pred)],\\\n",
    "                    y=nbmeans_autozi_all_copy[(is_zinb_gt_all == is_zinb_gt) & (is_zinb_pred_all == is_zinb_pred)],\\\n",
    "                    label=label, color=color, alpha=0.5)\n",
    "        \n",
    "    \n",
    "    plt.xlabel('$log_{10}$(Average expressions)')\n",
    "    plt.ylabel('$log_{10}$(NB means)')\n",
    "    plt.title(reconst_loss[is_zinb_gt])\n",
    "    plt.legend(loc='upper left')\n",
    "    \n",
    "    plt.show()"
   ]
  },
  {
   "cell_type": "code",
   "execution_count": null,
   "metadata": {},
   "outputs": [],
   "source": []
  }
 ],
 "metadata": {
  "kernelspec": {
   "display_name": "Python 3",
   "language": "python",
   "name": "python3"
  },
  "language_info": {
   "codemirror_mode": {
    "name": "ipython",
    "version": 3
   },
   "file_extension": ".py",
   "mimetype": "text/x-python",
   "name": "python",
   "nbconvert_exporter": "python",
   "pygments_lexer": "ipython3",
   "version": "3.7.3"
  }
 },
 "nbformat": 4,
 "nbformat_minor": 2
}
