{
 "cells": [
  {
   "cell_type": "markdown",
   "metadata": {},
   "source": [
    "# Beta-Poisson (SymSim) datasets"
   ]
  },
  {
   "cell_type": "markdown",
   "metadata": {},
   "source": [
    "## Imports"
   ]
  },
  {
   "cell_type": "code",
   "execution_count": 1,
   "metadata": {},
   "outputs": [],
   "source": [
    "import glob\n",
    "import pandas as pd\n",
    "import numpy as np\n",
    "import os\n",
    "from IPython.display import HTML\n",
    "import scipy\n",
    "import torch\n",
    "import pickle\n",
    "import re\n",
    "from sklearn.metrics import roc_curve, auc, precision_recall_curve, average_precision_score\n",
    "import matplotlib.pyplot as plt\n",
    "from inspect import signature"
   ]
  },
  {
   "cell_type": "code",
   "execution_count": 2,
   "metadata": {},
   "outputs": [
    {
     "name": "stderr",
     "output_type": "stream",
     "text": [
      "[2019-10-11 19:27:09,786] INFO - scvi._settings | Added StreamHandler with custom formatter to 'scvi' logger.\n",
      "/home/oscar/miniconda3/lib/python3.7/site-packages/scikit_learn-0.19.2-py3.7-linux-x86_64.egg/sklearn/ensemble/weight_boosting.py:29: DeprecationWarning: numpy.core.umath_tests is an internal NumPy module and should not be imported. It will be removed in a future NumPy release.\n",
      "  from numpy.core.umath_tests import inner1d\n"
     ]
    }
   ],
   "source": [
    "from scvi.models import AutoZIVAE\n",
    "from scvi.inference import UnsupervisedTrainer\n",
    "from datasets.symsim import SymSimMixedDataset\n",
    "import torch\n",
    "import pickle\n",
    "import argparse\n",
    "import re\n",
    "import numpy as np\n",
    "import time\n",
    "from scvi.models.log_likelihood import compute_marginal_log_likelihood_scvi, compute_marginal_log_likelihood_autozi\n",
    "import os\n",
    "from autozi_simulate_tools import retrieve_rates_dropouts\n",
    "from classification_metrics import *\n",
    "from functools import partial"
   ]
  },
  {
   "cell_type": "code",
   "execution_count": 3,
   "metadata": {},
   "outputs": [],
   "source": [
    "from mle_nb import NBEstimatorMinimize\n",
    "from mle_zinb import ZINBEstimatorMinimize"
   ]
  },
  {
   "cell_type": "code",
   "execution_count": 4,
   "metadata": {},
   "outputs": [],
   "source": [
    "plt.switch_backend(\"TkAgg\")\n",
    "%matplotlib inline"
   ]
  },
  {
   "cell_type": "markdown",
   "metadata": {},
   "source": [
    "## Train AutoZI on datasets"
   ]
  },
  {
   "cell_type": "markdown",
   "metadata": {},
   "source": [
    "For each dataset under scrutiny, we retrieve the posterior parameters $\\alpha^g, \\beta^g$ of $q(\\delta_g)$ for each gene $g$."
   ]
  },
  {
   "cell_type": "code",
   "execution_count": 5,
   "metadata": {},
   "outputs": [
    {
     "name": "stderr",
     "output_type": "stream",
     "text": [
      "[2019-10-11 19:27:12,888] INFO - scvi.dataset.dataset | Remapping batch_indices to [0,N]\n",
      "[2019-10-11 19:27:12,889] INFO - scvi.dataset.dataset | Remapping labels to [0,N]\n"
     ]
    },
    {
     "name": "stdout",
     "output_type": "stream",
     "text": [
      "training: 100%|██████████| 200/200 [00:38<00:00,  5.07it/s]\n"
     ]
    },
    {
     "name": "stderr",
     "output_type": "stream",
     "text": [
      "[2019-10-11 19:27:52,959] INFO - scvi.dataset.dataset | Remapping batch_indices to [0,N]\n",
      "[2019-10-11 19:27:52,960] INFO - scvi.dataset.dataset | Remapping labels to [0,N]\n"
     ]
    },
    {
     "name": "stdout",
     "output_type": "stream",
     "text": [
      "training: 100%|██████████| 200/200 [00:39<00:00,  5.40it/s]\n"
     ]
    },
    {
     "name": "stderr",
     "output_type": "stream",
     "text": [
      "[2019-10-11 19:28:31,993] INFO - scvi.dataset.dataset | Remapping batch_indices to [0,N]\n",
      "[2019-10-11 19:28:31,994] INFO - scvi.dataset.dataset | Remapping labels to [0,N]\n"
     ]
    },
    {
     "name": "stdout",
     "output_type": "stream",
     "text": [
      "training: 100%|██████████| 200/200 [00:38<00:00,  5.09it/s]\n"
     ]
    },
    {
     "name": "stderr",
     "output_type": "stream",
     "text": [
      "[2019-10-11 19:29:10,462] INFO - scvi.dataset.dataset | Remapping batch_indices to [0,N]\n",
      "[2019-10-11 19:29:10,463] INFO - scvi.dataset.dataset | Remapping labels to [0,N]\n"
     ]
    },
    {
     "name": "stdout",
     "output_type": "stream",
     "text": [
      "training: 100%|██████████| 200/200 [00:40<00:00,  4.73it/s]"
     ]
    },
    {
     "name": "stderr",
     "output_type": "stream",
     "text": [
      "[2019-10-11 19:29:51,439] INFO - scvi.dataset.dataset | Remapping batch_indices to [0,N]\n",
      "[2019-10-11 19:29:51,440] INFO - scvi.dataset.dataset | Remapping labels to [0,N]\n"
     ]
    },
    {
     "name": "stdout",
     "output_type": "stream",
     "text": [
      "\n",
      "training: 100%|██████████| 200/200 [00:46<00:00,  4.34it/s]\n"
     ]
    }
   ],
   "source": [
    "results_autozi_outputs = []\n",
    "datasets_mapper = {\n",
    "    'symsimb000': partial(SymSimMixedDataset, ratios=(0, 100, 0)),\n",
    "    'symsimb025': partial(SymSimMixedDataset, ratios=(25, 75, 0)),\n",
    "    'symsimb050': partial(SymSimMixedDataset, ratios=(50, 50, 0)),\n",
    "    'symsimb075': partial(SymSimMixedDataset, ratios=(75, 25, 0)),\n",
    "    'symsimb100': partial(SymSimMixedDataset, ratios=(100, 0, 0)),\n",
    "}\n",
    "\n",
    "for dataset_name in datasets_mapper:\n",
    "    data = datasets_mapper[dataset_name]()\n",
    "\n",
    "    np.random.seed(int(time.time()))\n",
    "    torch.manual_seed(int(time.time()))\n",
    "    model = AutoZIVAE(n_input=data.nb_genes, alpha_prior=0.5, beta_prior=0.5,minimal_dropout=0.01)\n",
    "    trainer = UnsupervisedTrainer(model, data)\n",
    "    trainer.train(n_epochs=200, lr=1e-2)\n",
    "    outputs = trainer.model.get_alphas_betas(as_numpy=True)\n",
    "    outputs['dataset_name'] = dataset_name\n",
    "    outputs['gene_labels'] = data.gene_labels\n",
    "    results_autozi_outputs.append(outputs)"
   ]
  },
  {
   "cell_type": "markdown",
   "metadata": {},
   "source": [
    "## Compute metrics from AutoZI's outputs"
   ]
  },
  {
   "cell_type": "markdown",
   "metadata": {},
   "source": [
    "For each dataset under scrutiny, from these $\\alpha^g, \\beta^g$, we estimate the ZI probabilities $q(\\delta_g < 0.5)$ and confusion matrix metrics on the default decision rule $q(\\delta_g < 0.5) > 0.5$ using tools from `classification_metrics.py`."
   ]
  },
  {
   "cell_type": "code",
   "execution_count": 9,
   "metadata": {},
   "outputs": [],
   "source": [
    "results_autozi_data_list = []\n",
    "\n",
    "for outputs in results_autozi_outputs:\n",
    "    \n",
    "    gene_labels = outputs['gene_labels']\n",
    "    # Focus on bimodal and UNZ genes (by default no UZ gene should be in the dataset)\n",
    "    mask_selection = np.argwhere(gene_labels != 'uz').reshape(-1)\n",
    "    if mask_selection.sum() == 0:\n",
    "        continue\n",
    "    is_zinb_gt = (outputs['gene_labels'] == 'b')[mask_selection]\n",
    "    \n",
    "    dataset_name = outputs['dataset_name']\n",
    "\n",
    "    metric_list_bernoulli = [\n",
    "        ConfusionMatrixMetric(is_zinb_gt),\n",
    "    ]\n",
    "\n",
    "    model_score_evals = [\n",
    "        AutoZIBernoulliThresholdEval('bernoullithreshold50', outputs, metric_list_bernoulli, threshold=0.50,\n",
    "                                     mask_selection=mask_selection),\n",
    "    ]\n",
    "\n",
    "    results_autozi_data = {}\n",
    "    for model_score_eval in model_score_evals:\n",
    "        # Compute metrics for AutoZI on the dataset (here confusion matrix metrics)\n",
    "        # Positives are ZI genes \n",
    "        results_autozi_data.update(model_score_eval.compute_all_metrics())\n",
    "        # Also directly add the scores used to compute the metrics\n",
    "        results_autozi_data[model_score_eval.name] = model_score_eval.scores\n",
    "    results_autozi_data['is_zinb_gt'] = is_zinb_gt\n",
    "\n",
    "    results_autozi_data['dataset_name'] = outputs.get('dataset_name',None)\n",
    "        \n",
    "    results_autozi_data_list.append(results_autozi_data)\n",
    "\n",
    "results_autozi = pd.DataFrame(results_autozi_data_list)"
   ]
  },
  {
   "cell_type": "code",
   "execution_count": 10,
   "metadata": {},
   "outputs": [],
   "source": [
    "results_autozi = results_autozi.sort_values(by=['dataset_name']).set_index(['dataset_name'])"
   ]
  },
  {
   "cell_type": "markdown",
   "metadata": {},
   "source": [
    "## Run baselines on datasets"
   ]
  },
  {
   "cell_type": "markdown",
   "metadata": {},
   "source": [
    "For each dataset under scrutiny, for each gene $g$, we return the results of AIC, BIC, the LLs of the fitted NB and ZINB distributions and the estimate ZI rate from the ZINB distribution."
   ]
  },
  {
   "cell_type": "code",
   "execution_count": 22,
   "metadata": {},
   "outputs": [
    {
     "name": "stderr",
     "output_type": "stream",
     "text": [
      "[2019-10-11 21:07:21,415] INFO - scvi.dataset.dataset | Remapping batch_indices to [0,N]\n",
      "[2019-10-11 21:07:21,416] INFO - scvi.dataset.dataset | Remapping labels to [0,N]\n",
      "[2019-10-11 21:08:06,063] INFO - scvi.dataset.dataset | Remapping batch_indices to [0,N]\n",
      "[2019-10-11 21:08:06,063] INFO - scvi.dataset.dataset | Remapping labels to [0,N]\n",
      "[2019-10-11 21:08:47,526] INFO - scvi.dataset.dataset | Remapping batch_indices to [0,N]\n",
      "[2019-10-11 21:08:47,527] INFO - scvi.dataset.dataset | Remapping labels to [0,N]\n",
      "[2019-10-11 21:09:38,926] INFO - scvi.dataset.dataset | Remapping batch_indices to [0,N]\n",
      "[2019-10-11 21:09:38,926] INFO - scvi.dataset.dataset | Remapping labels to [0,N]\n",
      "[2019-10-11 21:10:28,712] INFO - scvi.dataset.dataset | Remapping batch_indices to [0,N]\n",
      "[2019-10-11 21:10:28,713] INFO - scvi.dataset.dataset | Remapping labels to [0,N]\n"
     ]
    }
   ],
   "source": [
    "results_baseline_outputs = []\n",
    "\n",
    "datasets_mapper = {\n",
    "    'symsimb000': partial(SymSimMixedDataset, ratios=(0, 100, 0)),\n",
    "    'symsimb025': partial(SymSimMixedDataset, ratios=(25, 75, 0)),\n",
    "    'symsimb050': partial(SymSimMixedDataset, ratios=(50, 50, 0)),\n",
    "    'symsimb075': partial(SymSimMixedDataset, ratios=(75, 25, 0)),\n",
    "    'symsimb100': partial(SymSimMixedDataset, ratios=(100, 0, 0)),\n",
    "}\n",
    "\n",
    "for dataset_name in datasets_mapper:\n",
    "    data = datasets_mapper[dataset_name]()\n",
    "\n",
    "    outputs = {}\n",
    "\n",
    "\n",
    "    nb_is_best_bic_list = []\n",
    "    nb_is_best_aic_list = []\n",
    "    lls_nb = []\n",
    "    lls_zinb = []\n",
    "    dropouts = []\n",
    "\n",
    "    for g in range(data.X.shape[1]):\n",
    "        X = data.X[:, g]\n",
    "\n",
    "        zinb_est_min = ZINBEstimatorMinimize()\n",
    "        nb_est_min = NBEstimatorMinimize()\n",
    "\n",
    "\n",
    "        zinb_est_min.fit(X, method='trust-constr', options={'maxiter': 1000})\n",
    "        nb_est_min.fit(X, method='trust-constr', options={'maxiter': 1000})\n",
    "\n",
    "        ll_nb = nb_est_min.compute_ll(X)\n",
    "        ll_zinb = zinb_est_min.compute_ll(X)\n",
    "\n",
    "        # BIC\n",
    "        bic_nb = -2 * ll_nb + 2 * np.log(X.size)\n",
    "        bic_zinb = -2 * ll_zinb + 3 * np.log(X.size)\n",
    "        nb_is_best_g_bic = bic_nb < bic_zinb\n",
    "\n",
    "        # AIC\n",
    "        aic_nb = -2 * ll_nb + 2 * 2\n",
    "        aic_zinb = -2 * ll_zinb + 3 * 2\n",
    "        nb_is_best_g_aic = aic_nb < aic_zinb\n",
    "\n",
    "        # ZI rates and LLs\n",
    "        dropouts.append(zinb_est_min.pi)\n",
    "        lls_nb.append(ll_nb)\n",
    "        lls_zinb.append(ll_zinb)\n",
    "        nb_is_best_bic_list.append(nb_is_best_g_bic)\n",
    "        nb_is_best_aic_list.append(nb_is_best_g_aic)\n",
    "\n",
    "\n",
    "\n",
    "\n",
    "\n",
    "    outputs['gene_labels'] = data.gene_labels\n",
    "    outputs['is_nb_pred_bic'] = np.array(nb_is_best_bic_list)\n",
    "    outputs['is_nb_pred_aic'] = np.array(nb_is_best_aic_list)\n",
    "    outputs['dropouts'] = np.array(dropouts)\n",
    "    outputs['lls_nb'] = lls_nb\n",
    "    outputs['lls_zinb'] = lls_zinb\n",
    "    outputs['dataset_name'] = dataset_name\n",
    "    \n",
    "    results_baseline_outputs.append(outputs)"
   ]
  },
  {
   "cell_type": "markdown",
   "metadata": {},
   "source": [
    "## Compute metrics from the baseline's outputs"
   ]
  },
  {
   "cell_type": "markdown",
   "metadata": {},
   "source": [
    "From the outputs above, we compute confusion matrix metrics for AIC/BIC and return values of ZI rates and differences of log-likelihoods using tools from `classification_metrics.py`."
   ]
  },
  {
   "cell_type": "code",
   "execution_count": 23,
   "metadata": {},
   "outputs": [],
   "source": [
    "results_baseline_data_list = []\n",
    "\n",
    "for outputs in results_baseline_outputs:\n",
    "    gene_labels = outputs['gene_labels']\n",
    "    mask_selection = np.argwhere(gene_labels != 'uz').reshape(-1)\n",
    "    if mask_selection.sum() == 0:\n",
    "        continue\n",
    "    is_zinb_gt = (outputs['gene_labels'] == 'b')[mask_selection]\n",
    "    \n",
    "    metric_list_fitdecision = [\n",
    "        ConfusionMatrixMetric(is_zinb_gt),\n",
    "    ]\n",
    "\n",
    "    model_score_evals = [\n",
    "        FitDecisionEval('baselinedecisionaic', outputs, metric_list_fitdecision, key='aic',\n",
    "                        mask_selection=mask_selection),\n",
    "        FitDecisionEval('baselinedecisionbic', outputs, metric_list_fitdecision, key='bic',\n",
    "                        mask_selection=mask_selection),\n",
    "        FitDropoutEval('baselinedropout', outputs, [], key=None,\n",
    "                       mask_selection=mask_selection),\n",
    "        FitDiffLLEval('baselinediffll', outputs, [],\n",
    "                      mask_selection=mask_selection),\n",
    "    ]\n",
    "\n",
    "    results_baseline_data = {}\n",
    "    for model_score_eval in model_score_evals:\n",
    "        # Compute metrics for the baselines on the dataset (here confusion matrix metrics)\n",
    "        # They are computed only for the AIC and BIC baselines\n",
    "        # Positives are ZI genes\n",
    "        results_baseline_data.update(model_score_eval.compute_all_metrics())\n",
    "        # Also directly add the scores used to compute the metrics\n",
    "        # Relevant only for ZI rates and differences of LLs\n",
    "        results_baseline_data[model_score_eval.name] = model_score_eval.scores\n",
    "    results_baseline_data['is_zinb_gt'] = is_zinb_gt\n",
    "    results_baseline_data['dataset_name'] = outputs.get('dataset_name',None)\n",
    "    results_baseline_data_list.append(results_baseline_data)\n",
    "\n",
    "results_baseline = pd.DataFrame(results_baseline_data_list)"
   ]
  },
  {
   "cell_type": "code",
   "execution_count": 24,
   "metadata": {},
   "outputs": [],
   "source": [
    "results_baseline = results_baseline.sort_values(by=['dataset_name']).set_index(['dataset_name'])"
   ]
  },
  {
   "cell_type": "markdown",
   "metadata": {},
   "source": [
    "## Results on decisions rules"
   ]
  },
  {
   "cell_type": "markdown",
   "metadata": {},
   "source": [
    "AutoZI default : $q(\\delta_g < 0.5) > 0.5$"
   ]
  },
  {
   "cell_type": "code",
   "execution_count": 25,
   "metadata": {},
   "outputs": [
    {
     "name": "stdout",
     "output_type": "stream",
     "text": [
      "TPR : 0.96\n",
      "FPR : 0.008\n"
     ]
    }
   ],
   "source": [
    "results_autozi_restricted_sum = results_autozi[['bernoullithreshold50_confusionmatrix_tp',\\\n",
    "                                                'bernoullithreshold50_confusionmatrix_fp',\\\n",
    "                                                'bernoullithreshold50_confusionmatrix_tn',\\\n",
    "                                                'bernoullithreshold50_confusionmatrix_fn']].sum()\n",
    "\n",
    "tpr_aggregated = results_autozi_restricted_sum['bernoullithreshold50_confusionmatrix_tp']\\\n",
    "                / (results_autozi_restricted_sum['bernoullithreshold50_confusionmatrix_tp']\\\n",
    "                  + results_autozi_restricted_sum['bernoullithreshold50_confusionmatrix_fn'])\n",
    "fpr_aggregated = results_autozi_restricted_sum['bernoullithreshold50_confusionmatrix_fp']\\\n",
    "                / (results_autozi_restricted_sum['bernoullithreshold50_confusionmatrix_fp']\\\n",
    "                  + results_autozi_restricted_sum['bernoullithreshold50_confusionmatrix_tn'])\n",
    "print('TPR :', tpr_aggregated)\n",
    "print('FPR :', fpr_aggregated)"
   ]
  },
  {
   "cell_type": "markdown",
   "metadata": {},
   "source": [
    "AIC"
   ]
  },
  {
   "cell_type": "code",
   "execution_count": 26,
   "metadata": {},
   "outputs": [
    {
     "name": "stdout",
     "output_type": "stream",
     "text": [
      "TPR : 0.992\n",
      "FPR : 0.948\n"
     ]
    }
   ],
   "source": [
    "results_baseline_restricted_sum = results_baseline[['baselinedecisionaic_confusionmatrix_tp',\\\n",
    "                                          'baselinedecisionaic_confusionmatrix_fp',\\\n",
    "                                          'baselinedecisionaic_confusionmatrix_tn',\\\n",
    "                                          'baselinedecisionaic_confusionmatrix_fn']].sum()\n",
    "\n",
    "tpr_aggregated = results_baseline_restricted_sum['baselinedecisionaic_confusionmatrix_tp']\\\n",
    "                / (results_baseline_restricted_sum['baselinedecisionaic_confusionmatrix_tp']\\\n",
    "                  + results_baseline_restricted_sum['baselinedecisionaic_confusionmatrix_fn'])\n",
    "fpr_aggregated = results_baseline_restricted_sum['baselinedecisionaic_confusionmatrix_fp']\\\n",
    "                / (results_baseline_restricted_sum['baselinedecisionaic_confusionmatrix_fp']\\\n",
    "                  + results_baseline_restricted_sum['baselinedecisionaic_confusionmatrix_tn'])\n",
    "print('TPR :', tpr_aggregated)\n",
    "print('FPR :', fpr_aggregated)"
   ]
  },
  {
   "cell_type": "markdown",
   "metadata": {},
   "source": [
    "BIC"
   ]
  },
  {
   "cell_type": "code",
   "execution_count": 27,
   "metadata": {},
   "outputs": [
    {
     "name": "stdout",
     "output_type": "stream",
     "text": [
      "TPR : 0.94\n",
      "FPR : 0.768\n"
     ]
    }
   ],
   "source": [
    "results_baseline_restricted_sum = results_baseline[['baselinedecisionbic_confusionmatrix_tp',\\\n",
    "                                          'baselinedecisionbic_confusionmatrix_fp',\\\n",
    "                                          'baselinedecisionbic_confusionmatrix_tn',\\\n",
    "                                          'baselinedecisionbic_confusionmatrix_fn']].sum()\n",
    "\n",
    "tpr_aggregated = results_baseline_restricted_sum['baselinedecisionbic_confusionmatrix_tp']\\\n",
    "                / (results_baseline_restricted_sum['baselinedecisionbic_confusionmatrix_tp']\\\n",
    "                  + results_baseline_restricted_sum['baselinedecisionbic_confusionmatrix_fn'])\n",
    "fpr_aggregated = results_baseline_restricted_sum['baselinedecisionbic_confusionmatrix_fp']\\\n",
    "                / (results_baseline_restricted_sum['baselinedecisionbic_confusionmatrix_fp']\\\n",
    "                  + results_baseline_restricted_sum['baselinedecisionbic_confusionmatrix_tn'])\n",
    "print('TPR :', tpr_aggregated)\n",
    "print('FPR :', fpr_aggregated)"
   ]
  },
  {
   "cell_type": "markdown",
   "metadata": {},
   "source": [
    "## ROC curves"
   ]
  },
  {
   "cell_type": "markdown",
   "metadata": {},
   "source": [
    "### Create each curve"
   ]
  },
  {
   "cell_type": "markdown",
   "metadata": {},
   "source": [
    "AutoZI : $q(\\delta_g < 0.5)$"
   ]
  },
  {
   "cell_type": "code",
   "execution_count": 28,
   "metadata": {},
   "outputs": [],
   "source": [
    "scores_autozi_all = np.concatenate(list(results_autozi.bernoullithreshold50.values.reshape(-1))).reshape(-1)\n",
    "is_zinb_gt_all = np.concatenate(list(results_autozi.is_zinb_gt.values.reshape(-1))).reshape(-1)\n",
    "fpr_autozi, tpr_autozi, _ = roc_curve(is_zinb_gt_all, scores_autozi_all)\n",
    "auc_val_autozi = auc(fpr_autozi,tpr_autozi)"
   ]
  },
  {
   "cell_type": "markdown",
   "metadata": {},
   "source": [
    "Uni-MLE-LRT"
   ]
  },
  {
   "cell_type": "code",
   "execution_count": 29,
   "metadata": {},
   "outputs": [],
   "source": [
    "scores_baselinediffll_all = np.concatenate(list(results_baseline[['baselinediffll']].values.reshape(-1))).reshape(-1)\n",
    "is_zinb_gt_all = np.concatenate(list(results_baseline[['is_zinb_gt']].values.reshape(-1))).reshape(-1)\n",
    "fpr_baselinediffll, tpr_baselinediffll, _ = roc_curve(is_zinb_gt_all, scores_baselinediffll_all)\n",
    "auc_val_baselinediffll = auc(fpr_baselinediffll,tpr_baselinediffll)"
   ]
  },
  {
   "cell_type": "markdown",
   "metadata": {},
   "source": [
    "Uni-MLE-Pi"
   ]
  },
  {
   "cell_type": "code",
   "execution_count": 30,
   "metadata": {},
   "outputs": [],
   "source": [
    "scores_baselinedropout_all = np.concatenate(list(results_baseline[['baselinedropout']].values.reshape(-1))).reshape(-1)\n",
    "is_zinb_gt_all = np.concatenate(list(results_baseline[['is_zinb_gt']].values.reshape(-1))).reshape(-1)\n",
    "fpr_baselinedropout, tpr_baselinedropout, _ = roc_curve(is_zinb_gt_all, scores_baselinedropout_all)\n",
    "auc_val_baselinedropout = auc(fpr_baselinedropout,tpr_baselinedropout)"
   ]
  },
  {
   "cell_type": "markdown",
   "metadata": {},
   "source": [
    "### Plot all ROC curves together"
   ]
  },
  {
   "cell_type": "code",
   "execution_count": 31,
   "metadata": {},
   "outputs": [
    {
     "data": {
      "image/png": "[encoded data removed]",
      "text/plain": [
       "<Figure size 432x288 with 1 Axes>"
      ]
     },
     "metadata": {
      "needs_background": "light"
     },
     "output_type": "display_data"
    }
   ],
   "source": [
    "for fpr,tpr,model_name,color in zip([fpr_autozi,fpr_baselinedropout,fpr_baselinediffll],\\\n",
    "                                    [tpr_autozi,tpr_baselinedropout,tpr_baselinediffll],\\\n",
    "                                    ['AutoZI','Uni-MLE-Pi','Uni-MLE-LRT'],\\\n",
    "                                    ['g','b','r']):\n",
    "    auc_val = auc(fpr,tpr)\n",
    "    plt.plot(fpr, tpr, label='{model_name} (AUC : {auc})'.format(model_name=model_name,auc=round(auc_val,4)),color=color)\n",
    "\n",
    "plt.plot([0, 1], [0, 1], label='Random classifier', color='navy', lw=2, linestyle='--')\n",
    "plt.xlim([-0.01, 1.0])\n",
    "plt.ylim([0.8, 1.01])\n",
    "plt.xlabel('False Positive Rate')\n",
    "plt.ylabel('True Positive Rate')\n",
    "plt.legend(loc=\"lower right\")\n",
    "plt.show()"
   ]
  },
  {
   "cell_type": "code",
   "execution_count": null,
   "metadata": {},
   "outputs": [],
   "source": []
  }
 ],
 "metadata": {
  "kernelspec": {
   "display_name": "Python 3",
   "language": "python",
   "name": "python3"
  },
  "language_info": {
   "codemirror_mode": {
    "name": "ipython",
    "version": 3
   },
   "file_extension": ".py",
   "mimetype": "text/x-python",
   "name": "python",
   "nbconvert_exporter": "python",
   "pygments_lexer": "ipython3",
   "version": "3.7.3"
  }
 },
 "nbformat": 4,
 "nbformat_minor": 2
}
