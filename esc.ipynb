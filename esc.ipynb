{
 "cells": [
  {
   "cell_type": "markdown",
   "metadata": {},
   "source": [
    "# Mouse ESC datasets"
   ]
  },
  {
   "cell_type": "markdown",
   "metadata": {},
   "source": [
    "## Imports"
   ]
  },
  {
   "cell_type": "code",
   "execution_count": 1,
   "metadata": {},
   "outputs": [],
   "source": [
    "import glob\n",
    "import pandas as pd\n",
    "import numpy as np\n",
    "import os\n",
    "from IPython.display import HTML\n",
    "import scipy\n",
    "import torch\n",
    "import pickle\n",
    "import re\n",
    "from sklearn.metrics import roc_curve, auc, precision_recall_curve, average_precision_score\n",
    "import matplotlib.pyplot as plt\n",
    "from inspect import signature"
   ]
  },
  {
   "cell_type": "code",
   "execution_count": 2,
   "metadata": {},
   "outputs": [
    {
     "name": "stderr",
     "output_type": "stream",
     "text": [
      "[2019-10-11 21:14:19,570] INFO - scvi._settings | Added StreamHandler with custom formatter to 'scvi' logger.\n",
      "/home/oscar/miniconda3/lib/python3.7/site-packages/scikit_learn-0.19.2-py3.7-linux-x86_64.egg/sklearn/ensemble/weight_boosting.py:29: DeprecationWarning: numpy.core.umath_tests is an internal NumPy module and should not be imported. It will be removed in a future NumPy release.\n",
      "  from numpy.core.umath_tests import inner1d\n"
     ]
    }
   ],
   "source": [
    "from scvi.models import AutoZIVAE\n",
    "from scvi.inference import UnsupervisedTrainer\n",
    "from datasets.esc import KolodziejczykESCDataset\n",
    "import torch\n",
    "import pickle\n",
    "import argparse\n",
    "import re\n",
    "import numpy as np\n",
    "import time\n",
    "from scvi.models.log_likelihood import compute_marginal_log_likelihood_scvi, compute_marginal_log_likelihood_autozi\n",
    "import os\n",
    "from autozi_simulate_tools import retrieve_rates_dropouts\n",
    "from classification_metrics import *\n",
    "from functools import partial"
   ]
  },
  {
   "cell_type": "code",
   "execution_count": 3,
   "metadata": {},
   "outputs": [],
   "source": [
    "plt.switch_backend(\"TkAgg\")\n",
    "%matplotlib inline"
   ]
  },
  {
   "cell_type": "markdown",
   "metadata": {},
   "source": [
    "## Train AutoZI on datasets"
   ]
  },
  {
   "cell_type": "markdown",
   "metadata": {},
   "source": [
    "For each dataset under scrutiny, we retrieve the posterior parameters $\\alpha^g, \\beta^g$ of $q(\\delta_g)$ for each gene $g$."
   ]
  },
  {
   "cell_type": "code",
   "execution_count": 4,
   "metadata": {},
   "outputs": [
    {
     "name": "stderr",
     "output_type": "stream",
     "text": [
      "[2019-10-11 21:14:23,639] INFO - scvi.dataset.dataset | Remapping batch_indices to [0,N]\n",
      "[2019-10-11 21:14:23,640] INFO - scvi.dataset.dataset | Remapping labels to [0,N]\n"
     ]
    },
    {
     "name": "stdout",
     "output_type": "stream",
     "text": [
      "training: 100%|██████████| 600/600 [00:39<00:00, 15.15it/s]\n"
     ]
    }
   ],
   "source": [
    "results_autozi_outputs = []\n",
    "datasets_mapper = {\n",
    "    'kolodc57-esc-004-025': partial(KolodziejczykESCDataset, fraction_genes=0.04, fraction_uz_genes_left=0.25),\n",
    "   }\n",
    "\n",
    "for dataset_name in datasets_mapper:\n",
    "    data = datasets_mapper[dataset_name]()\n",
    "\n",
    "    np.random.seed(int(time.time()))\n",
    "    torch.manual_seed(int(time.time()))\n",
    "    model = AutoZIVAE(n_input=data.nb_genes, alpha_prior=0.5, beta_prior=0.5,minimal_dropout=0.01)\n",
    "    trainer = UnsupervisedTrainer(model, data)\n",
    "    trainer.train(n_epochs=600, lr=1e-2)\n",
    "    outputs = trainer.model.get_alphas_betas(as_numpy=True)\n",
    "    outputs['dataset_name'] = dataset_name\n",
    "    outputs['gene_labels'] = data.gene_labels\n",
    "    outputs['means_emp'] = data.X.mean(axis=0)\n",
    "    results_autozi_outputs.append(outputs)"
   ]
  },
  {
   "cell_type": "markdown",
   "metadata": {},
   "source": [
    "## Compute metrics from AutoZI's outputs"
   ]
  },
  {
   "cell_type": "markdown",
   "metadata": {},
   "source": [
    "For each dataset under scrutiny, from these $\\alpha^g, \\beta^g$, we estimate the ZI probabilities $q(\\delta_g < 0.5)$ using tools from `classification_metrics.py`."
   ]
  },
  {
   "cell_type": "code",
   "execution_count": 5,
   "metadata": {},
   "outputs": [],
   "source": [
    "results_autozi_data_list = []\n",
    "\n",
    "for outputs in results_autozi_outputs:\n",
    "    \n",
    "\n",
    "    model_score_evals = [\n",
    "        AutoZIBernoulliThresholdEval('bernoullithreshold50', outputs, [], threshold=0.50),\n",
    "    ]\n",
    "\n",
    "    results_autozi_data = {}\n",
    "    for model_score_eval in model_score_evals:\n",
    "        # Just select the scores used to compute the metrics\n",
    "        # Positives are ZI genes \n",
    "        results_autozi_data[model_score_eval.name] = model_score_eval.scores\n",
    "        \n",
    "    for key in ['gene_labels','means_emp','dataset_name']:\n",
    "        results_autozi_data[key] = outputs.get(key,None)\n",
    "        \n",
    "    results_autozi_data_list.append(results_autozi_data)\n",
    "    \n",
    "results_autozi = pd.DataFrame(results_autozi_data_list)"
   ]
  },
  {
   "cell_type": "code",
   "execution_count": 6,
   "metadata": {},
   "outputs": [],
   "source": [
    "results_autozi = results_autozi.sort_values(by=['dataset_name']).set_index(['dataset_name'])"
   ]
  },
  {
   "cell_type": "markdown",
   "metadata": {},
   "source": [
    "## Show labelled genes in the space of kinetic parameters"
   ]
  },
  {
   "cell_type": "code",
   "execution_count": 7,
   "metadata": {},
   "outputs": [],
   "source": [
    "def plot_esc_points(kons, koffs, labels_zinb, logs=True, title='Plot', save=False):\n",
    "    \n",
    "    fig = plt.figure()\n",
    "    axes = plt.gca()\n",
    "    \n",
    "    if logs:\n",
    "        kons = np.log10(kons)\n",
    "        koffs = np.log10(koffs)\n",
    "        \n",
    "    for is_zinb_pred in [False,True]:\n",
    "        color = 'red' if is_zinb_pred else 'green'\n",
    "        label= 'Predicted ZINB genes' if is_zinb_pred else 'Predicted NB genes'\n",
    "        plt.scatter(x=kons[labels_zinb == is_zinb_pred], y=koffs[labels_zinb == is_zinb_pred],\\\n",
    "                    label=label, color=color, alpha=0.7)\n",
    "        \n",
    "    vals_x = np.linspace(*axes.get_xlim())\n",
    "    vals_x = vals_x[vals_x <= 0]\n",
    "    vals_y = np.linspace(*axes.get_ylim())\n",
    "    plt.plot(vals_x, np.zeros(vals_x.size), 'b-')\n",
    "    plt.plot(np.zeros(vals_y.size), vals_y, 'b-')\n",
    "    plt.xlabel('$\\log_{10}(k_{on})$')\n",
    "    plt.ylabel('$\\log_{10}(k_{off})$')\n",
    "    plt.legend(loc='upper left')\n",
    "    \n",
    "    if save:\n",
    "        plt.savefig('file.png', dpi=400, transparent=True)\n",
    "    \n",
    "    plt.show()"
   ]
  },
  {
   "cell_type": "code",
   "execution_count": 9,
   "metadata": {},
   "outputs": [
    {
     "name": "stdout",
     "output_type": "stream",
     "text": [
      "Predictions for kolodc57-esc-004-025\n",
      "Bimodal: 39 ZINB genes =>  0.75 of  52\n",
      "UNZ: 38 NB genes =>  0.7450980392156863  of  51\n",
      "UZ: 23 ZINB genes =>  0.7931034482758621  of  29\n",
      "Plot in the space of kinetic parameters :\n"
     ]
    },
    {
     "data": {
      "image/png": "[encoded data removed]",
      "text/plain": [
       "<Figure size 432x288 with 1 Axes>"
      ]
     },
     "metadata": {
      "needs_background": "light"
     },
     "output_type": "display_data"
    }
   ],
   "source": [
    "logs = True \n",
    "\n",
    "for dataset_name, gene_labels, means_emp, zi_probs   \\\n",
    "    in zip(results_autozi.index, results_autozi.gene_labels,\\\n",
    "           results_autozi.means_emp, results_autozi.bernoullithreshold50):\n",
    "           \n",
    "    koffs = gene_labels['koff_c57']\n",
    "    kons = gene_labels['kon_c57']\n",
    "\n",
    "    # Restrict on bimodal or UNZ genes with sufficient expression\n",
    "    mask_means_emp = (means_emp > 1.)\n",
    "    mask_b_unz = np.logical_and(~((kons < 1) & (koffs >= 1)), mask_means_emp)\n",
    "    mask_uz = np.logical_and(((kons < 1) & (koffs >= 1)), mask_means_emp)\n",
    "\n",
    "    is_bimod_gt = ((kons < 1) & (koffs < 1))[mask_b_unz]\n",
    "\n",
    "    labels_zinb = (zi_probs > 0.5)\n",
    "    print('Predictions for', dataset_name)\n",
    "    print('Bimodal:', labels_zinb[mask_b_unz][is_bimod_gt].sum(), 'ZINB genes => ', labels_zinb[mask_b_unz][is_bimod_gt].mean(), 'of ', is_bimod_gt.sum())\n",
    "    print('UNZ:', (~labels_zinb)[mask_b_unz][~is_bimod_gt].sum(), 'NB genes => ', (~labels_zinb)[mask_b_unz][~is_bimod_gt].mean(), ' of ', (~is_bimod_gt).sum())\n",
    "    print('UZ:', (labels_zinb)[mask_uz].sum(), 'ZINB genes => ', (labels_zinb)[mask_uz].mean(), ' of ', mask_uz.sum())\n",
    "    print('Plot in the space of kinetic parameters :')\n",
    "    plot_esc_points(kons[mask_means_emp], koffs[mask_means_emp], labels_zinb[mask_means_emp], logs=logs)\n"
   ]
  },
  {
   "cell_type": "code",
   "execution_count": null,
   "metadata": {},
   "outputs": [],
   "source": []
  }
 ],
 "metadata": {
  "kernelspec": {
   "display_name": "Python 3",
   "language": "python",
   "name": "python3"
  },
  "language_info": {
   "codemirror_mode": {
    "name": "ipython",
    "version": 3
   },
   "file_extension": ".py",
   "mimetype": "text/x-python",
   "name": "python",
   "nbconvert_exporter": "python",
   "pygments_lexer": "ipython3",
   "version": "3.7.3"
  }
 },
 "nbformat": 4,
 "nbformat_minor": 2
}
