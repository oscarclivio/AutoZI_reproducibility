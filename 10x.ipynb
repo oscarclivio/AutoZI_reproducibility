{
 "cells": [
  {
   "cell_type": "markdown",
   "metadata": {},
   "source": [
    "# 10X PBMC datasets"
   ]
  },
  {
   "cell_type": "markdown",
   "metadata": {},
   "source": [
    "## Imports"
   ]
  },
  {
   "cell_type": "code",
   "execution_count": 1,
   "metadata": {},
   "outputs": [],
   "source": [
    "import glob\n",
    "import pandas as pd\n",
    "import numpy as np\n",
    "import os\n",
    "from IPython.display import HTML\n",
    "import scipy\n",
    "import torch\n",
    "import pickle\n",
    "import re\n",
    "from sklearn.metrics import roc_curve, auc, precision_recall_curve, average_precision_score\n",
    "import matplotlib.pyplot as plt\n",
    "from inspect import signature"
   ]
  },
  {
   "cell_type": "code",
   "execution_count": 2,
   "metadata": {},
   "outputs": [
    {
     "name": "stderr",
     "output_type": "stream",
     "text": [
      "[2019-10-11 17:54:35,830] INFO - scvi._settings | Added StreamHandler with custom formatter to 'scvi' logger.\n",
      "/home/oscar/miniconda3/lib/python3.7/site-packages/scikit_learn-0.19.2-py3.7-linux-x86_64.egg/sklearn/ensemble/weight_boosting.py:29: DeprecationWarning: numpy.core.umath_tests is an internal NumPy module and should not be imported. It will be removed in a future NumPy release.\n",
      "  from numpy.core.umath_tests import inner1d\n"
     ]
    }
   ],
   "source": [
    "from scvi.models import AutoZIVAE\n",
    "from scvi.inference import UnsupervisedTrainer\n",
    "from datasets.dataset10Xcelltype import Dataset10XCellTypes\n",
    "import torch\n",
    "import pickle\n",
    "import argparse\n",
    "import re\n",
    "import numpy as np\n",
    "import time\n",
    "from scvi.models.log_likelihood import compute_marginal_log_likelihood_scvi, compute_marginal_log_likelihood_autozi\n",
    "import os\n",
    "from autozi_simulate_tools import retrieve_rates_dropouts_per_cell_type, restrict_to_common_nonzero_genes_cell_types\n",
    "from classification_metrics import *\n",
    "from functools import partial"
   ]
  },
  {
   "cell_type": "code",
   "execution_count": 3,
   "metadata": {},
   "outputs": [],
   "source": [
    "plt.switch_backend(\"TkAgg\")\n",
    "%matplotlib inline"
   ]
  },
  {
   "cell_type": "markdown",
   "metadata": {},
   "source": [
    "## Preprocessing datasets"
   ]
  },
  {
   "cell_type": "markdown",
   "metadata": {},
   "source": [
    "Before running AutoZI, we preprocess the datasets (pbmc3k, pbmc8k, pbmc10k), notably restricting them to the set of genes expressed in all cell types and datasets and saving, for each cell type, the set of genes with sufficient expression in each dataset."
   ]
  },
  {
   "cell_type": "code",
   "execution_count": 4,
   "metadata": {},
   "outputs": [
    {
     "name": "stderr",
     "output_type": "stream",
     "text": [
      "[2019-10-11 17:54:36,419] INFO - scvi.dataset.dataset | File /media/storage/Documents/2. Professionnel/UC Berkeley Internship 2019/scVI-C/autozi_reproducibility/data/10X/pbmc3k/filtered_gene_bc_matrices.tar.gz already downloaded\n",
      "[2019-10-11 17:54:39,319] INFO - scvi.dataset.dataset | Remapping batch_indices to [0,N]\n",
      "[2019-10-11 17:54:39,320] INFO - scvi.dataset.dataset | Remapping labels to [0,N]\n",
      "[2019-10-11 17:54:39,329] INFO - scvi.dataset.dataset | Computing the library size for the new data\n",
      "[2019-10-11 17:54:39,341] INFO - scvi.dataset.dataset | Downsampled from 2700 to 2700 cells\n",
      "[2019-10-11 17:54:39,345] INFO - scvi.dataset.dataset | File /media/storage/Documents/2. Professionnel/UC Berkeley Internship 2019/scVI-C/autozi_reproducibility/data/10X/pbmc8k/filtered_gene_bc_matrices.tar.gz already downloaded\n",
      "[2019-10-11 17:54:52,037] INFO - scvi.dataset.dataset | Remapping batch_indices to [0,N]\n",
      "[2019-10-11 17:54:52,038] INFO - scvi.dataset.dataset | Remapping labels to [0,N]\n",
      "[2019-10-11 17:54:52,099] INFO - scvi.dataset.dataset | Computing the library size for the new data\n",
      "[2019-10-11 17:54:52,162] INFO - scvi.dataset.dataset | Downsampled from 8381 to 8381 cells\n",
      "[2019-10-11 17:54:52,167] INFO - scvi.dataset.dataset | File /media/storage/Documents/2. Professionnel/UC Berkeley Internship 2019/scVI-C/autozi_reproducibility/data/10X/pbmc_10k_protein_v3/filtered_feature_bc_matrix.tar.gz already downloaded\n",
      "[2019-10-11 17:55:14,843] INFO - scvi.dataset.dataset | Remapping batch_indices to [0,N]\n",
      "[2019-10-11 17:55:14,844] INFO - scvi.dataset.dataset | Remapping labels to [0,N]\n",
      "[2019-10-11 17:55:14,902] INFO - scvi.dataset.dataset | Computing the library size for the new data\n",
      "[2019-10-11 17:55:14,965] INFO - scvi.dataset.dataset | Downsampled from 7865 to 7865 cells\n",
      "[2019-10-11 17:55:14,981] INFO - scvi.dataset.dataset | Computing the library size for the new data\n",
      "[2019-10-11 17:55:14,986] INFO - scvi.dataset.dataset | Downsampled from 2700 to 2276 cells\n",
      "[2019-10-11 17:55:14,987] INFO - scvi.dataset.dataset | Remapping labels to [0,N]\n",
      "[2019-10-11 17:55:15,029] INFO - scvi.dataset.dataset | Computing the library size for the new data\n",
      "[2019-10-11 17:55:15,075] INFO - scvi.dataset.dataset | Downsampled from 8381 to 6896 cells\n",
      "[2019-10-11 17:55:15,076] INFO - scvi.dataset.dataset | Remapping labels to [0,N]\n",
      "[2019-10-11 17:55:15,124] INFO - scvi.dataset.dataset | Computing the library size for the new data\n",
      "[2019-10-11 17:55:15,177] INFO - scvi.dataset.dataset | Downsampled from 7865 to 6559 cells\n",
      "[2019-10-11 17:55:15,178] INFO - scvi.dataset.dataset | Remapping labels to [0,N]\n",
      "[2019-10-11 17:55:15,207] INFO - scvi.dataset.dataset | Downsampling from 32738 to 1000 genes\n",
      "[2019-10-11 17:55:15,220] INFO - scvi.dataset.dataset | Computing the library size for the new data\n",
      "[2019-10-11 17:55:15,223] INFO - scvi.dataset.dataset | Filtering non-expressing cells.\n",
      "[2019-10-11 17:55:15,226] INFO - scvi.dataset.dataset | Computing the library size for the new data\n",
      "[2019-10-11 17:55:15,230] INFO - scvi.dataset.dataset | Downsampled from 2276 to 2276 cells\n",
      "[2019-10-11 17:55:15,387] INFO - scvi.dataset.dataset | Downsampling from 33694 to 1000 genes\n",
      "[2019-10-11 17:55:15,461] INFO - scvi.dataset.dataset | Computing the library size for the new data\n",
      "[2019-10-11 17:55:15,478] INFO - scvi.dataset.dataset | Filtering non-expressing cells.\n",
      "[2019-10-11 17:55:15,493] INFO - scvi.dataset.dataset | Computing the library size for the new data\n",
      "[2019-10-11 17:55:15,510] INFO - scvi.dataset.dataset | Downsampled from 6896 to 6896 cells\n",
      "[2019-10-11 17:55:15,654] INFO - scvi.dataset.dataset | Downsampling from 33538 to 1000 genes\n",
      "[2019-10-11 17:55:15,720] INFO - scvi.dataset.dataset | Computing the library size for the new data\n",
      "[2019-10-11 17:55:15,740] INFO - scvi.dataset.dataset | Filtering non-expressing cells.\n",
      "[2019-10-11 17:55:15,749] INFO - scvi.dataset.dataset | Computing the library size for the new data\n",
      "[2019-10-11 17:55:15,766] INFO - scvi.dataset.dataset | Downsampled from 6559 to 6559 cells\n",
      "[2019-10-11 17:55:16,143] INFO - scvi.dataset.dataset | Downsampling from 1000 to 560 genes\n",
      "[2019-10-11 17:55:16,147] INFO - scvi.dataset.dataset | Computing the library size for the new data\n",
      "[2019-10-11 17:55:16,150] INFO - scvi.dataset.dataset | Filtering non-expressing cells.\n",
      "[2019-10-11 17:55:16,153] INFO - scvi.dataset.dataset | Computing the library size for the new data\n",
      "[2019-10-11 17:55:16,155] INFO - scvi.dataset.dataset | Downsampled from 2276 to 2276 cells\n",
      "[2019-10-11 17:55:16,158] INFO - scvi.dataset.dataset | Computing the library size for the new data\n",
      "[2019-10-11 17:55:16,161] INFO - scvi.dataset.dataset | Downsampled from 2276 to 2276 cells\n",
      "[2019-10-11 17:55:16,162] INFO - scvi.dataset.dataset | Downsampling from 1000 to 560 genes\n",
      "[2019-10-11 17:55:16,180] INFO - scvi.dataset.dataset | Computing the library size for the new data\n",
      "[2019-10-11 17:55:16,187] INFO - scvi.dataset.dataset | Filtering non-expressing cells.\n",
      "[2019-10-11 17:55:16,194] INFO - scvi.dataset.dataset | Computing the library size for the new data\n",
      "[2019-10-11 17:55:16,200] INFO - scvi.dataset.dataset | Downsampled from 6896 to 6896 cells\n",
      "[2019-10-11 17:55:16,207] INFO - scvi.dataset.dataset | Computing the library size for the new data\n",
      "[2019-10-11 17:55:16,214] INFO - scvi.dataset.dataset | Downsampled from 6896 to 6896 cells\n",
      "[2019-10-11 17:55:16,215] INFO - scvi.dataset.dataset | Downsampling from 1000 to 560 genes\n",
      "[2019-10-11 17:55:16,235] INFO - scvi.dataset.dataset | Computing the library size for the new data\n",
      "[2019-10-11 17:55:16,242] INFO - scvi.dataset.dataset | Filtering non-expressing cells.\n",
      "[2019-10-11 17:55:16,248] INFO - scvi.dataset.dataset | Computing the library size for the new data\n",
      "[2019-10-11 17:55:16,255] INFO - scvi.dataset.dataset | Downsampled from 6559 to 6559 cells\n",
      "[2019-10-11 17:55:16,261] INFO - scvi.dataset.dataset | Computing the library size for the new data\n",
      "[2019-10-11 17:55:16,268] INFO - scvi.dataset.dataset | Downsampled from 6559 to 6559 cells\n"
     ]
    }
   ],
   "source": [
    "dataset_name_to_metadata_file_name = {\n",
    "    'pbmc3k': 'pbmc3k_metadata.pickle',\n",
    "    'pbmc8k': 'pbmc8k_metadata.pickle',\n",
    "    'pbmc_10k_protein_v3': 'pbmc10k_metadata.pickle',\n",
    "}\n",
    "\n",
    "tenxv1_id = 'pbmc3k'\n",
    "tenxv2_id = 'pbmc8k'\n",
    "tenxv3_id = 'pbmc_10k_protein_v3'\n",
    "\n",
    "tenxv1 = Dataset10XCellTypes(tenxv1_id, dataset_name_to_metadata_file_name[tenxv1_id])\n",
    "tenxv2 = Dataset10XCellTypes(tenxv2_id, dataset_name_to_metadata_file_name[tenxv2_id])\n",
    "tenxv3 = Dataset10XCellTypes(tenxv3_id, dataset_name_to_metadata_file_name[tenxv3_id])\n",
    "\n",
    "cell_types_of_interest = np.array(['B cells', 'CD14+ Monocytes', 'CD4 T cells', 'CD8 T cells'])\n",
    "for tenx in [tenxv1, tenxv2, tenxv3]:\n",
    "    tenx.filter_cell_types(cell_types_of_interest)\n",
    "    tenx.reorder_cell_types(cell_types_of_interest)\n",
    "\n",
    "for tenx in [tenxv1, tenxv2, tenxv3]:\n",
    "    tenx.subsample_genes(new_n_genes=1000)\n",
    "\n",
    "genes_to_study = restrict_to_common_nonzero_genes_cell_types(tenxv1, tenxv2, tenxv3)\n",
    "\n",
    "datasets = {\n",
    "    '10x-v1-' + tenxv1_id: tenxv1,\n",
    "    '10x-v2-' + tenxv2_id: tenxv2,\n",
    "    '10x-v3-' + tenxv3_id: tenxv3,\n",
    "}"
   ]
  },
  {
   "cell_type": "markdown",
   "metadata": {},
   "source": [
    "## Train AutoZI on datasets"
   ]
  },
  {
   "cell_type": "markdown",
   "metadata": {},
   "source": [
    "For each dataset under scrutiny, we retrieve the posterior parameters $\\alpha^g, \\beta^g$ of $q(\\delta_g)$ for each gene $g$."
   ]
  },
  {
   "cell_type": "code",
   "execution_count": 10,
   "metadata": {},
   "outputs": [
    {
     "name": "stdout",
     "output_type": "stream",
     "text": [
      "training: 100%|██████████| 600/600 [02:40<00:00,  3.05it/s]\n",
      "training: 100%|██████████| 600/600 [07:28<00:00,  1.45it/s]\n",
      "training: 100%|██████████| 600/600 [06:24<00:00,  1.55it/s]\n"
     ]
    }
   ],
   "source": [
    "results_autozi_outputs = []\n",
    "\n",
    "for ind_dataset,dataset_name in enumerate(datasets):\n",
    "    data = datasets[dataset_name]\n",
    "\n",
    "    np.random.seed(int(time.time()))\n",
    "    torch.manual_seed(int(time.time()))\n",
    "    model = AutoZIVAE(n_input=data.nb_genes, alpha_prior=0.5, beta_prior=0.5,minimal_dropout=0.01,\\\n",
    "                      dispersion='gene-label', zero_inflation='gene-label', n_labels=data.n_labels)\n",
    "    \n",
    "    trainer = UnsupervisedTrainer(model, data)\n",
    "    trainer.train(n_epochs=600, lr=1e-2)\n",
    "    outputs = trainer.model.get_alphas_betas()\n",
    "\n",
    "    outputs['ind_dataset'] = ind_dataset\n",
    "    outputs['cell_types'] = data.cell_types\n",
    "    outputs['labels'] = data.labels\n",
    "    outputs['genes_to_study'] = genes_to_study\n",
    "\n",
    "    outputs['means_emp'] = {}\n",
    "    for label in np.unique(data.labels):\n",
    "        outputs['means_emp'][label] = np.array(data.X[data.labels.reshape(-1) == label, :].mean(axis=0) \\\n",
    "                                               .reshape(-1))\n",
    "\n",
    "    outputs['dataset_name'] = dataset_name\n",
    "    \n",
    "    results_autozi_outputs.append(outputs)"
   ]
  },
  {
   "cell_type": "markdown",
   "metadata": {},
   "source": [
    "## Compute metrics from AutoZI's outputs"
   ]
  },
  {
   "cell_type": "code",
   "execution_count": 11,
   "metadata": {},
   "outputs": [],
   "source": [
    "# Create a mask for a flattened gene-label entry matrix for a given label and, optionally, another label\n",
    "def make_label_mask(shape, label, mask_other=None):\n",
    "    mask = np.zeros(shape).astype(bool)\n",
    "    mask[:,label] = True\n",
    "    if mask_other is not None:\n",
    "        mask = np.logical_and(mask, mask_other)\n",
    "    return mask.reshape(-1)\n"
   ]
  },
  {
   "cell_type": "markdown",
   "metadata": {},
   "source": [
    "For each dataset under scrutiny, from these $\\alpha^g, \\beta^g$, we estimate the ZI probabilities $q(\\delta_g < 0.5)$ and classification metrics on the default decision rule $q(\\delta_g < 0.5) > 0.5$ using tools from `classification_metrics.py`."
   ]
  },
  {
   "cell_type": "code",
   "execution_count": 17,
   "metadata": {},
   "outputs": [],
   "source": [
    "results_autozi_data_list = []\n",
    "\n",
    "for outputs in results_autozi_outputs:\n",
    "\n",
    "    labels = outputs['labels']\n",
    "    cell_types = outputs['cell_types']\n",
    "    genes_to_study = outputs['genes_to_study']\n",
    "    ind_dataset = outputs['ind_dataset']\n",
    "\n",
    "    # Create a mask such that each column corresponds to a cell type and each entry of this column corresponds\n",
    "    # to the indices of genes of interest, determined above\n",
    "    means_emp = outputs[\"means_emp\"]\n",
    "    mask_means_emp = np.zeros((means_emp[0].size,len(means_emp))).astype(bool)\n",
    "    for label in means_emp:\n",
    "        mask_means_emp[genes_to_study[cell_types[label]][ind_dataset],label] = True\n",
    "\n",
    "    # The ground-truth is set to ZI for all genes for computational purposes but we do NOT assume\n",
    "    # all genes are ZI\n",
    "    is_zinb_gt = np.ones(outputs['alpha_posterior'].shape).astype(bool)\n",
    "    # Dictionary associating each cell type toand a flattened gene-label mask with the adequate gene indices\n",
    "    # for the cell type\n",
    "    masks = {cell_types[label].replace(' ',''): make_label_mask(is_zinb_gt.shape, label, mask_means_emp) \\\n",
    "                 for label in np.unique(labels)}\n",
    "\n",
    "    is_zinb_gt = is_zinb_gt.reshape(-1)\n",
    "\n",
    "    metric_list_bernoulli = [\n",
    "        ConfusionMatrixMetric(is_zinb_gt, masks=masks),\n",
    "    ]\n",
    "\n",
    "    model_score_evals = [\n",
    "        AutoZIBernoulliThresholdEval('bernoullithreshold50', outputs, metric_list_bernoulli, threshold=0.50),\n",
    "    ]\n",
    "\n",
    "    results_autozi_data = {}\n",
    "    for model_score_eval in model_score_evals:\n",
    "        # Compute metrics for AutoZI on the dataset (here confusion matrix metrics)\n",
    "        # Positives are ZI genes\n",
    "        results_autozi_data.update(model_score_eval.compute_all_metrics())\n",
    "        # Also directly add the scores used to compute the metrics\n",
    "        results_autozi_data[model_score_eval.name] = model_score_eval.scores\n",
    "\n",
    "    for key in ['means_emp', 'dataset_name']:\n",
    "        results_autozi_data[key] = outputs.get(key, None)\n",
    "        \n",
    "    results_autozi_data_list.append(results_autozi_data)\n",
    "\n",
    "results_autozi = pd.DataFrame(results_autozi_data_list)"
   ]
  },
  {
   "cell_type": "code",
   "execution_count": 18,
   "metadata": {},
   "outputs": [],
   "source": [
    "results_autozi = results_autozi.sort_values(by=['dataset_name']).set_index(['dataset_name'])"
   ]
  },
  {
   "cell_type": "markdown",
   "metadata": {},
   "source": [
    "## Percentages of ZINB genes"
   ]
  },
  {
   "cell_type": "code",
   "execution_count": 19,
   "metadata": {},
   "outputs": [],
   "source": [
    "dict_metrics_to_celltypes = {\n",
    "        'bernoullithreshold50_confusionmatrix_Bcells': 'B cells',\n",
    "        'bernoullithreshold50_confusionmatrix_CD14+Monocytes': 'CD14+ monocytes',\n",
    "        'bernoullithreshold50_confusionmatrix_CD4Tcells': 'CD4 T cells',\n",
    "        'bernoullithreshold50_confusionmatrix_CD8Tcells': 'CD8 T cells',\n",
    "        'bernoullithreshold50_confusionmatrix_NKcells': 'NK cells',\n",
    "    }"
   ]
  },
  {
   "cell_type": "code",
   "execution_count": 20,
   "metadata": {},
   "outputs": [
    {
     "name": "stdout",
     "output_type": "stream",
     "text": [
      "Numbers of ZINB genes per cell type and dataset\n"
     ]
    },
    {
     "data": {
      "text/html": [
       "<div>\n",
       "<style scoped>\n",
       "    .dataframe tbody tr th:only-of-type {\n",
       "        vertical-align: middle;\n",
       "    }\n",
       "\n",
       "    .dataframe tbody tr th {\n",
       "        vertical-align: top;\n",
       "    }\n",
       "\n",
       "    .dataframe thead th {\n",
       "        text-align: right;\n",
       "    }\n",
       "</style>\n",
       "<table border=\"1\" class=\"dataframe\">\n",
       "  <thead>\n",
       "    <tr style=\"text-align: right;\">\n",
       "      <th>dataset_name</th>\n",
       "      <th>10x-v1-pbmc3k</th>\n",
       "      <th>10x-v2-pbmc8k</th>\n",
       "      <th>10x-v3-pbmc_10k_protein_v3</th>\n",
       "    </tr>\n",
       "  </thead>\n",
       "  <tbody>\n",
       "    <tr>\n",
       "      <th>B cells</th>\n",
       "      <td>79</td>\n",
       "      <td>62</td>\n",
       "      <td>25</td>\n",
       "    </tr>\n",
       "    <tr>\n",
       "      <th>CD14+ monocytes</th>\n",
       "      <td>77</td>\n",
       "      <td>57</td>\n",
       "      <td>31</td>\n",
       "    </tr>\n",
       "    <tr>\n",
       "      <th>CD4 T cells</th>\n",
       "      <td>84</td>\n",
       "      <td>77</td>\n",
       "      <td>31</td>\n",
       "    </tr>\n",
       "    <tr>\n",
       "      <th>CD8 T cells</th>\n",
       "      <td>78</td>\n",
       "      <td>58</td>\n",
       "      <td>41</td>\n",
       "    </tr>\n",
       "  </tbody>\n",
       "</table>\n",
       "</div>"
      ],
      "text/plain": [
       "dataset_name     10x-v1-pbmc3k  10x-v2-pbmc8k  10x-v3-pbmc_10k_protein_v3\n",
       "B cells                     79             62                          25\n",
       "CD14+ monocytes             77             57                          31\n",
       "CD4 T cells                 84             77                          31\n",
       "CD8 T cells                 78             58                          41"
      ]
     },
     "metadata": {},
     "output_type": "display_data"
    },
    {
     "name": "stdout",
     "output_type": "stream",
     "text": [
      "Numbers of total genes under study per cell type and dataset\n"
     ]
    },
    {
     "data": {
      "text/html": [
       "<div>\n",
       "<style scoped>\n",
       "    .dataframe tbody tr th:only-of-type {\n",
       "        vertical-align: middle;\n",
       "    }\n",
       "\n",
       "    .dataframe tbody tr th {\n",
       "        vertical-align: top;\n",
       "    }\n",
       "\n",
       "    .dataframe thead th {\n",
       "        text-align: right;\n",
       "    }\n",
       "</style>\n",
       "<table border=\"1\" class=\"dataframe\">\n",
       "  <thead>\n",
       "    <tr style=\"text-align: right;\">\n",
       "      <th>dataset_name</th>\n",
       "      <th>10x-v1-pbmc3k</th>\n",
       "      <th>10x-v2-pbmc8k</th>\n",
       "      <th>10x-v3-pbmc_10k_protein_v3</th>\n",
       "    </tr>\n",
       "  </thead>\n",
       "  <tbody>\n",
       "    <tr>\n",
       "      <th>B cells</th>\n",
       "      <td>203</td>\n",
       "      <td>203</td>\n",
       "      <td>203</td>\n",
       "    </tr>\n",
       "    <tr>\n",
       "      <th>CD14+ monocytes</th>\n",
       "      <td>228</td>\n",
       "      <td>228</td>\n",
       "      <td>228</td>\n",
       "    </tr>\n",
       "    <tr>\n",
       "      <th>CD4 T cells</th>\n",
       "      <td>217</td>\n",
       "      <td>217</td>\n",
       "      <td>217</td>\n",
       "    </tr>\n",
       "    <tr>\n",
       "      <th>CD8 T cells</th>\n",
       "      <td>211</td>\n",
       "      <td>211</td>\n",
       "      <td>211</td>\n",
       "    </tr>\n",
       "  </tbody>\n",
       "</table>\n",
       "</div>"
      ],
      "text/plain": [
       "dataset_name     10x-v1-pbmc3k  10x-v2-pbmc8k  10x-v3-pbmc_10k_protein_v3\n",
       "B cells                    203            203                         203\n",
       "CD14+ monocytes            228            228                         228\n",
       "CD4 T cells                217            217                         217\n",
       "CD8 T cells                211            211                         211"
      ]
     },
     "metadata": {},
     "output_type": "display_data"
    },
    {
     "name": "stdout",
     "output_type": "stream",
     "text": [
      "Percentages of ZINB genes per cell type and dataset\n"
     ]
    },
    {
     "data": {
      "text/html": [
       "<div>\n",
       "<style scoped>\n",
       "    .dataframe tbody tr th:only-of-type {\n",
       "        vertical-align: middle;\n",
       "    }\n",
       "\n",
       "    .dataframe tbody tr th {\n",
       "        vertical-align: top;\n",
       "    }\n",
       "\n",
       "    .dataframe thead th {\n",
       "        text-align: right;\n",
       "    }\n",
       "</style>\n",
       "<table border=\"1\" class=\"dataframe\">\n",
       "  <thead>\n",
       "    <tr style=\"text-align: right;\">\n",
       "      <th>dataset_name</th>\n",
       "      <th>10x-v1-pbmc3k</th>\n",
       "      <th>10x-v2-pbmc8k</th>\n",
       "      <th>10x-v3-pbmc_10k_protein_v3</th>\n",
       "    </tr>\n",
       "  </thead>\n",
       "  <tbody>\n",
       "    <tr>\n",
       "      <th>B cells</th>\n",
       "      <td>38.92</td>\n",
       "      <td>30.54</td>\n",
       "      <td>12.32</td>\n",
       "    </tr>\n",
       "    <tr>\n",
       "      <th>CD14+ monocytes</th>\n",
       "      <td>33.77</td>\n",
       "      <td>25.00</td>\n",
       "      <td>13.60</td>\n",
       "    </tr>\n",
       "    <tr>\n",
       "      <th>CD4 T cells</th>\n",
       "      <td>38.71</td>\n",
       "      <td>35.48</td>\n",
       "      <td>14.29</td>\n",
       "    </tr>\n",
       "    <tr>\n",
       "      <th>CD8 T cells</th>\n",
       "      <td>36.97</td>\n",
       "      <td>27.49</td>\n",
       "      <td>19.43</td>\n",
       "    </tr>\n",
       "  </tbody>\n",
       "</table>\n",
       "</div>"
      ],
      "text/plain": [
       "dataset_name     10x-v1-pbmc3k  10x-v2-pbmc8k  10x-v3-pbmc_10k_protein_v3\n",
       "B cells                  38.92          30.54                       12.32\n",
       "CD14+ monocytes          33.77          25.00                       13.60\n",
       "CD4 T cells              38.71          35.48                       14.29\n",
       "CD8 T cells              36.97          27.49                       19.43"
      ]
     },
     "metadata": {},
     "output_type": "display_data"
    }
   ],
   "source": [
    "cols = []\n",
    "for cell_type in ['Bcells','CD14+Monocytes','CD4Tcells','CD8Tcells']:\n",
    "    cols.append('bernoullithreshold50_confusionmatrix_'+cell_type+'_tp')\n",
    "results_autozi_restricted = results_autozi[cols].rename(columns=lambda col: col.replace('_tp','')).T.rename(index=dict_metrics_to_celltypes)\n",
    "\n",
    "print('Numbers of ZINB genes per cell type and dataset')\n",
    "display(results_autozi_restricted)\n",
    "\n",
    "cols = []\n",
    "for cell_type in ['Bcells','CD14+Monocytes','CD4Tcells','CD8Tcells']:\n",
    "    cols.append('bernoullithreshold50_confusionmatrix_'+cell_type+'_total')\n",
    "results_autozi_restricted_denominator = results_autozi[cols].rename(columns=lambda col: col.replace('_total','')).T.rename(index=dict_metrics_to_celltypes)\n",
    "\n",
    "print('Numbers of total genes under study per cell type and dataset')\n",
    "display(results_autozi_restricted_denominator)\n",
    "\n",
    "results_autozi_restricted_percentages = (results_autozi_restricted\\\n",
    "                                         / results_autozi_restricted_denominator).apply(lambda s: round(s*100,2))\n",
    "\n",
    "\n",
    "print('Percentages of ZINB genes per cell type and dataset')\n",
    "display(results_autozi_restricted_percentages)"
   ]
  }
 ],
 "metadata": {
  "kernelspec": {
   "display_name": "Python 3",
   "language": "python",
   "name": "python3"
  },
  "language_info": {
   "codemirror_mode": {
    "name": "ipython",
    "version": 3
   },
   "file_extension": ".py",
   "mimetype": "text/x-python",
   "name": "python",
   "nbconvert_exporter": "python",
   "pygments_lexer": "ipython3",
   "version": "3.7.3"
  }
 },
 "nbformat": 4,
 "nbformat_minor": 2
}
